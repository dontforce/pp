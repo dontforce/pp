{
 "cells": [
  {
   "cell_type": "code",
   "execution_count": 11,
   "metadata": {},
   "outputs": [
    {
     "name": "stdout",
     "output_type": "stream",
     "text": [
      "7321.23\n",
      "7329.21\n",
      "7352.0\n",
      "7312.2\n",
      "7200.0\n",
      "7000.0\n",
      "\n",
      "0 7321.23\n",
      "1 7329.21\n",
      "2 7352.0\n",
      "3 7312.2\n",
      "4 7200.0\n",
      "5 7000.0\n",
      "\n",
      "Appending one element:\n",
      " [7321.23, 7329.21, 7352.0, 7312.2, 7200.0, 7000.0, 6800.0]\n",
      "\n",
      "Adding one list to another using extends:\n",
      " [7321.23, 7329.21, 7352.0, 7312.2, 7200.0, 7000.0, 6800.0, 6700.0, 6500.0, 6300.0]\n"
     ]
    }
   ],
   "source": [
    "# Data structures - A data structure is a container that holds data. \n",
    "\n",
    "\n",
    "# types of primitive (built-in) data structures in python: tuple, list, dictionary, sets \n",
    "\n",
    "\n",
    "# LIST: Python doesn't have a built in array, they just use lists cause its easier/better. \n",
    "\n",
    "# This is equivalent to an ArrayList in java. everything in a list is called an element\n",
    "bitcoin_prices = [ 7321.23, 7329.21, 7352.00, 7312.2, 7200.00, 7000.00 ]\n",
    "\n",
    "\n",
    "# common things done with lists\n",
    "\n",
    "# iteration: iterating or looping just means going over the list element by element.\n",
    "for price in bitcoin_prices:\n",
    "    print( price )\n",
    "\n",
    "print()\n",
    "\n",
    "# iterating with the index\n",
    "for index, price in enumerate( bitcoin_prices, 0 ):\n",
    "    print( index, price )\n",
    "    \n",
    "\n",
    "# adding things to the list: APPEND\n",
    "new_price = 6800.00\n",
    "bitcoin_prices.append( new_price )\n",
    "\n",
    "# prints whole list\n",
    "print( \"\\nAppending one element:\\n\", bitcoin_prices )\n",
    "\n",
    "# add one list to another: EXTEND\n",
    "new_bitcoin_prices = [ 6700.00, 6500.00, 6300.00 ]\n",
    "bitcoin_prices.extend( new_bitcoin_prices )\n",
    "\n",
    "print( \"\\nAdding one list to another using extends:\\n\", bitcoin_prices )\n"
   ]
  },
  {
   "cell_type": "code",
   "execution_count": null,
   "metadata": {},
   "outputs": [],
   "source": []
  }
 ],
 "metadata": {
  "kernelspec": {
   "display_name": "Python 3",
   "language": "python",
   "name": "python3"
  },
  "language_info": {
   "codemirror_mode": {
    "name": "ipython",
    "version": 3
   },
   "file_extension": ".py",
   "mimetype": "text/x-python",
   "name": "python",
   "nbconvert_exporter": "python",
   "pygments_lexer": "ipython3",
   "version": "3.6.5"
  }
 },
 "nbformat": 4,
 "nbformat_minor": 2
}
