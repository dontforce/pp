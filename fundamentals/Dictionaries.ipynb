{
 "cells": [
  {
   "cell_type": "code",
   "execution_count": null,
   "metadata": {},
   "outputs": [],
   "source": [
    "'''\n",
    "dictionary = most useful data structure you will use. All it is is key-value pairs.\n",
    "\n",
    "This is the structure of it: { key: value, key2: value2 }\n",
    "\n",
    "Rules:\n",
    " - all keys in a single dictionary must be unique. Duplicate keys are not allowed.\n",
    " - There's a limit to what types can be a key in a dictionary: keys must be an \"immutable\" type. (int, boolean, )  \n",
    "\n",
    "the java equivalent is a HashMap.\n",
    "'''\n",
    "\n",
    "\n"
   ]
  }
 ],
 "metadata": {
  "kernelspec": {
   "display_name": "Python 3",
   "language": "python",
   "name": "python3"
  },
  "language_info": {
   "codemirror_mode": {
    "name": "ipython",
    "version": 3
   },
   "file_extension": ".py",
   "mimetype": "text/x-python",
   "name": "python",
   "nbconvert_exporter": "python",
   "pygments_lexer": "ipython3",
   "version": "3.7.0"
  }
 },
 "nbformat": 4,
 "nbformat_minor": 2
}
