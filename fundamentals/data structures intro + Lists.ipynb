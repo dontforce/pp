{
 "cells": [
  {
   "cell_type": "code",
   "execution_count": 15,
   "metadata": {},
   "outputs": [
    {
     "name": "stdout",
     "output_type": "stream",
     "text": [
      "tuple: ('key', 'val', 1, 2, ['key', 1])\n",
      "list: ['this', 'is', 'a', 'list', 'of', 'strings']\n",
      "dictionary/dict: {'key': 'val', 1234: 'hey', 'list-key': ['hey']}\n",
      "Set: {'Andy'}\n",
      "Casting a list to a set: {'this is a list'}\n"
     ]
    }
   ],
   "source": [
    "# Data structures - A data structure is a container that holds data. \n",
    "\n",
    "\n",
    "# types of primitive (built-in) data structures in python: \n",
    "\n",
    "# tuple: immutable list that has many limitations. most commonly used as a key in a dictionary.\n",
    "x = ( 'key', 'val', 1, 2, ['key', 1 ] ) \n",
    "print(\"tuple: {}\".format( x ) )\n",
    "\n",
    "# list: most USED data structure. most commonly used to store elements and iterate over them. instantiated with brackets []\n",
    "x = [ 'this', 'is', 'a', 'list', 'of', 'strings' ]\n",
    "print(\"list: {}\".format( x ) )\n",
    "\n",
    "# dictionary: most USEFUL data structure. a dict stores key-value pairs. a dict is instantiated with curly braces {}\n",
    "x = {    'key': 'val',\n",
    "          1234: 'hey', \n",
    "         'list-key': [ 'hey' ]\n",
    "    }\n",
    "\n",
    "print(\"dictionary/dict: {}\".format( x) )\n",
    "\n",
    "# sets: useful but not as used as the others. biggest thing about sets is there can't be a duplicate element inside of it.\n",
    "x = { 'Andy', 'Andy' }\n",
    "print(\"Set: {}\".format( x ) )\n",
    "\n",
    "# so a common usecase is if you have a list of elements, and you want to remove duplicates in that list, you cast it to a set\n",
    "x = [ 'this is a list', 'this is a list' ]\n",
    "x = set( x ) # this is called casting.\n",
    "print(\"Casting a list to a set: {}\".format( x ) )"
   ]
  },
  {
   "cell_type": "code",
   "execution_count": 18,
   "metadata": {},
   "outputs": [
    {
     "name": "stdout",
     "output_type": "stream",
     "text": [
      "Printing each price in the list of bitcoin prices...\n",
      "7321.23\n",
      "7329.21\n",
      "7352.0\n",
      "7312.2\n",
      "7200.0\n",
      "7000.0\n",
      "\n",
      "Iterating with the index of the element...printing out the index and bitcoin price\n",
      "0 7321.23\n",
      "1 7329.21\n",
      "2 7352.0\n",
      "3 7312.2\n",
      "4 7200.0\n",
      "5 7000.0\n"
     ]
    }
   ],
   "source": [
    "# LIST: Python doesn't have a built in array, they just use lists cause its easier/better. \n",
    "\n",
    "# This is equivalent to an ArrayList in java. every item in a list is called an element. \n",
    "\n",
    "# so lets say we have a list of bitcoin prices \n",
    "bitcoin_prices = [ 7321.23, 7329.21, 7352.00, 7312.2, 7200.00, 7000.00 ]\n",
    "'''\n",
    "Java equivalent:\n",
    "\n",
    "ArrayList<Double> bitcoin_prices = ArrayList<Double>();\n",
    "\n",
    "then you have to add each element in there manually.... \n",
    "\n",
    "bitcoin_prices.add( 7321.23 ); \n",
    "bitcoin_prices.add(etc);\n",
    "'''\n",
    "\n",
    "\n",
    "# common things done with lists\n",
    "print(\"Printing each price in the list of bitcoin prices...\")\n",
    "# iteration: iterating or looping just means going over the list element by element, and doing something with each element.\n",
    "for price in bitcoin_prices:\n",
    "    print( price )\n",
    "    \n",
    "'''\n",
    "This is what iteration looks like in java:\n",
    "\n",
    "for (int index = 0; index < bitcoin_prices.size(); index++ ) {\n",
    "    sysout( bitcoin_prices.get( index ) )\n",
    "}\n",
    "\n",
    "Good thing about java version is you automatically have the index of where you are in the iteration (i).\n",
    "Bad part is: way more code. if you really need the index, you can do it in python with less code as well\n",
    "\n",
    "https://www.w3schools.com/java/java_for_loop.asp\n",
    "'''\n",
    "\n",
    "print(\"\\nIterating with the index of the element...printing out the index and bitcoin price\")\n",
    "\n",
    "\n",
    "# iterating with the index of the element\n",
    "for index, price in enumerate( bitcoin_prices, 0 ):\n",
    "    print( index, price )"
   ]
  },
  {
   "cell_type": "code",
   "execution_count": 19,
   "metadata": {},
   "outputs": [
    {
     "name": "stdout",
     "output_type": "stream",
     "text": [
      "\n",
      "Appending one element:\n",
      " [7321.23, 7329.21, 7352.0, 7312.2, 7200.0, 7000.0, 6800.0]\n",
      "\n",
      "Adding one list to another using extends:\n",
      " [7321.23, 7329.21, 7352.0, 7312.2, 7200.0, 7000.0, 6800.0, 6700.0, 6500.0, 6300.0]\n"
     ]
    }
   ],
   "source": [
    "# adding things to the list: APPEND\n",
    "new_price = 6800.00\n",
    "bitcoin_prices.append( new_price )\n",
    "\n",
    "# prints whole list\n",
    "print( \"\\nAppending one element:\\n\", bitcoin_prices )\n",
    "\n",
    "# add one list to another: EXTEND\n",
    "\n",
    "# lets say you got a list of more bitcoin prices and you want to add it to the original list of prices\n",
    "new_bitcoin_prices = [ 6700.00, 6500.00, 6300.00 ]\n",
    "bitcoin_prices.extend( new_bitcoin_prices )\n",
    "\n",
    "print( \"\\nAdding one list to another using extends:\\n\", bitcoin_prices )"
   ]
  },
  {
   "cell_type": "code",
   "execution_count": 23,
   "metadata": {},
   "outputs": [
    {
     "name": "stdout",
     "output_type": "stream",
     "text": [
      "list has changed forever with the appending and extending of new elements that were added:\n",
      "[7321.23, 7329.21, 7352.0, 7312.2, 7200.0, 7000.0, 6800.0, 6700.0, 6500.0, 6300.0]\n",
      "First price: 7321.23, middle price: 7000.0\n",
      "Last price: 6300.0\n"
     ]
    }
   ],
   "source": [
    "# NOTE: after you extended the list, the list is forever changed.\n",
    "print(\"list has changed forever with the appending and extending of new elements that were added:\\n{}\".format( bitcoin_prices ) )\n",
    "\n",
    "# accessing elements: [index]\n",
    "\n",
    "# you can access any element of the list by passing in the index [1]\n",
    "first_price = bitcoin_prices[ 0 ] # 0 is the start of all indexes in programming, not 1\n",
    "\n",
    "mid_index = len( bitcoin_prices ) // 2\n",
    "middle_price = bitcoin_prices[ mid_index ]\n",
    "print( \"First price: {}, middle price: {}\".format( first_price, middle_price ) )\n",
    "\n",
    "# you can access the list with negative indexes as well, something you can't do in any other language\n",
    "\n",
    "# most common use case with accessing elements w/ negative indexes is getting the last value in the list \n",
    "last_price = bitcoin_prices[ -1 ]\n",
    "print(\"Last price: {}\".format( last_price ) )"
   ]
  },
  {
   "cell_type": "code",
   "execution_count": null,
   "metadata": {},
   "outputs": [],
   "source": []
  },
  {
   "cell_type": "code",
   "execution_count": null,
   "metadata": {},
   "outputs": [],
   "source": []
  }
 ],
 "metadata": {
  "kernelspec": {
   "display_name": "Python 3",
   "language": "python",
   "name": "python3"
  },
  "language_info": {
   "codemirror_mode": {
    "name": "ipython",
    "version": 3
   },
   "file_extension": ".py",
   "mimetype": "text/x-python",
   "name": "python",
   "nbconvert_exporter": "python",
   "pygments_lexer": "ipython3",
   "version": "3.7.0"
  }
 },
 "nbformat": 4,
 "nbformat_minor": 2
}
